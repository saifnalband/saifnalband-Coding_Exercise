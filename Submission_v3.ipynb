{
 "cells": [
  {
   "cell_type": "markdown",
   "metadata": {},
   "source": [
    "# Coding Exeriese\n",
    "\n",
    "- the data has been explored in csv format\n",
    "- have used statmodel & sklearn based approach\n",
    "- the predictive analysis model has error"
   ]
  },
  {
   "cell_type": "markdown",
   "metadata": {},
   "source": [
    "## Loading all the required libraries"
   ]
  },
  {
   "cell_type": "code",
   "execution_count": 1,
   "metadata": {},
   "outputs": [],
   "source": [
    "import statsmodels.api as sm\n",
    "import statsmodels.formula.api as smf\n",
    "import numpy as np\n",
    "import seaborn as sns\n",
    "import pandas as pd\n",
    "import matplotlib.pyplot as plt\n",
    "import scipy.io as sio\n",
    "from sklearn.preprocessing import StandardScaler\n",
    "from sklearn.model_selection import train_test_split \n",
    "from statsmodels.graphics.gofplots import qqplot\n",
    "from scipy import stats\n",
    "from sklearn.linear_model import LinearRegression\n",
    "from sklearn import linear_model\n",
    "from resample import permutation, bootstrap, utils"
   ]
  },
  {
   "cell_type": "markdown",
   "metadata": {},
   "source": [
    "## Data\n",
    "\n",
    "- load the data and view the data"
   ]
  },
  {
   "cell_type": "code",
   "execution_count": 2,
   "metadata": {},
   "outputs": [
    {
     "data": {
      "text/html": [
       "<div>\n",
       "<style scoped>\n",
       "    .dataframe tbody tr th:only-of-type {\n",
       "        vertical-align: middle;\n",
       "    }\n",
       "\n",
       "    .dataframe tbody tr th {\n",
       "        vertical-align: top;\n",
       "    }\n",
       "\n",
       "    .dataframe thead th {\n",
       "        text-align: right;\n",
       "    }\n",
       "</style>\n",
       "<table border=\"1\" class=\"dataframe\">\n",
       "  <thead>\n",
       "    <tr style=\"text-align: right;\">\n",
       "      <th></th>\n",
       "      <th>date</th>\n",
       "      <th>Quater</th>\n",
       "      <th>gdp</th>\n",
       "      <th>consumption</th>\n",
       "      <th>invest</th>\n",
       "      <th>government</th>\n",
       "      <th>dpi</th>\n",
       "      <th>cpi</th>\n",
       "      <th>m1</th>\n",
       "      <th>tbill</th>\n",
       "      <th>unemp</th>\n",
       "      <th>population</th>\n",
       "      <th>inflation</th>\n",
       "      <th>interest</th>\n",
       "    </tr>\n",
       "  </thead>\n",
       "  <tbody>\n",
       "    <tr>\n",
       "      <th>0</th>\n",
       "      <td>1950</td>\n",
       "      <td>Q1</td>\n",
       "      <td>1610.5</td>\n",
       "      <td>1058.9</td>\n",
       "      <td>198.1</td>\n",
       "      <td>361.0</td>\n",
       "      <td>1186.1</td>\n",
       "      <td>70.6</td>\n",
       "      <td>110.20</td>\n",
       "      <td>1.12</td>\n",
       "      <td>6.4</td>\n",
       "      <td>149.461</td>\n",
       "      <td>NaN</td>\n",
       "      <td>NaN</td>\n",
       "    </tr>\n",
       "    <tr>\n",
       "      <th>1</th>\n",
       "      <td>1950</td>\n",
       "      <td>Q2</td>\n",
       "      <td>1658.8</td>\n",
       "      <td>1075.9</td>\n",
       "      <td>220.4</td>\n",
       "      <td>366.4</td>\n",
       "      <td>1178.1</td>\n",
       "      <td>71.4</td>\n",
       "      <td>111.75</td>\n",
       "      <td>1.17</td>\n",
       "      <td>5.6</td>\n",
       "      <td>150.260</td>\n",
       "      <td>4.5071</td>\n",
       "      <td>-3.3404</td>\n",
       "    </tr>\n",
       "    <tr>\n",
       "      <th>2</th>\n",
       "      <td>1950</td>\n",
       "      <td>Q3</td>\n",
       "      <td>1723.0</td>\n",
       "      <td>1131.0</td>\n",
       "      <td>239.7</td>\n",
       "      <td>359.6</td>\n",
       "      <td>1196.5</td>\n",
       "      <td>73.2</td>\n",
       "      <td>112.95</td>\n",
       "      <td>1.23</td>\n",
       "      <td>4.6</td>\n",
       "      <td>151.064</td>\n",
       "      <td>9.9590</td>\n",
       "      <td>-8.7290</td>\n",
       "    </tr>\n",
       "    <tr>\n",
       "      <th>3</th>\n",
       "      <td>1950</td>\n",
       "      <td>Q4</td>\n",
       "      <td>1753.9</td>\n",
       "      <td>1097.6</td>\n",
       "      <td>271.8</td>\n",
       "      <td>382.5</td>\n",
       "      <td>1210.0</td>\n",
       "      <td>74.9</td>\n",
       "      <td>113.93</td>\n",
       "      <td>1.35</td>\n",
       "      <td>4.2</td>\n",
       "      <td>151.871</td>\n",
       "      <td>9.1834</td>\n",
       "      <td>-7.8301</td>\n",
       "    </tr>\n",
       "    <tr>\n",
       "      <th>4</th>\n",
       "      <td>1951</td>\n",
       "      <td>Q1</td>\n",
       "      <td>1773.5</td>\n",
       "      <td>1122.8</td>\n",
       "      <td>242.9</td>\n",
       "      <td>421.9</td>\n",
       "      <td>1207.9</td>\n",
       "      <td>77.3</td>\n",
       "      <td>115.08</td>\n",
       "      <td>1.40</td>\n",
       "      <td>3.5</td>\n",
       "      <td>152.393</td>\n",
       "      <td>12.6160</td>\n",
       "      <td>-11.2160</td>\n",
       "    </tr>\n",
       "  </tbody>\n",
       "</table>\n",
       "</div>"
      ],
      "text/plain": [
       "   date Quater     gdp  consumption  invest  government     dpi   cpi      m1  \\\n",
       "0  1950     Q1  1610.5       1058.9   198.1       361.0  1186.1  70.6  110.20   \n",
       "1  1950     Q2  1658.8       1075.9   220.4       366.4  1178.1  71.4  111.75   \n",
       "2  1950     Q3  1723.0       1131.0   239.7       359.6  1196.5  73.2  112.95   \n",
       "3  1950     Q4  1753.9       1097.6   271.8       382.5  1210.0  74.9  113.93   \n",
       "4  1951     Q1  1773.5       1122.8   242.9       421.9  1207.9  77.3  115.08   \n",
       "\n",
       "   tbill  unemp  population  inflation  interest  \n",
       "0   1.12    6.4     149.461        NaN       NaN  \n",
       "1   1.17    5.6     150.260     4.5071   -3.3404  \n",
       "2   1.23    4.6     151.064     9.9590   -8.7290  \n",
       "3   1.35    4.2     151.871     9.1834   -7.8301  \n",
       "4   1.40    3.5     152.393    12.6160  -11.2160  "
      ]
     },
     "execution_count": 2,
     "metadata": {},
     "output_type": "execute_result"
    }
   ],
   "source": [
    "data = pd.read_csv(\"./data.csv\")\n",
    "data.head()"
   ]
  },
  {
   "cell_type": "markdown",
   "metadata": {},
   "source": [
    "## creating independent and depentent variable"
   ]
  },
  {
   "cell_type": "code",
   "execution_count": 3,
   "metadata": {},
   "outputs": [
    {
     "data": {
      "text/html": [
       "<div>\n",
       "<style scoped>\n",
       "    .dataframe tbody tr th:only-of-type {\n",
       "        vertical-align: middle;\n",
       "    }\n",
       "\n",
       "    .dataframe tbody tr th {\n",
       "        vertical-align: top;\n",
       "    }\n",
       "\n",
       "    .dataframe thead th {\n",
       "        text-align: right;\n",
       "    }\n",
       "</style>\n",
       "<table border=\"1\" class=\"dataframe\">\n",
       "  <thead>\n",
       "    <tr style=\"text-align: right;\">\n",
       "      <th></th>\n",
       "      <th>dpi</th>\n",
       "      <th>unemp</th>\n",
       "    </tr>\n",
       "  </thead>\n",
       "  <tbody>\n",
       "    <tr>\n",
       "      <th>0</th>\n",
       "      <td>1186.1</td>\n",
       "      <td>6.4</td>\n",
       "    </tr>\n",
       "    <tr>\n",
       "      <th>1</th>\n",
       "      <td>1178.1</td>\n",
       "      <td>5.6</td>\n",
       "    </tr>\n",
       "    <tr>\n",
       "      <th>2</th>\n",
       "      <td>1196.5</td>\n",
       "      <td>4.6</td>\n",
       "    </tr>\n",
       "    <tr>\n",
       "      <th>3</th>\n",
       "      <td>1210.0</td>\n",
       "      <td>4.2</td>\n",
       "    </tr>\n",
       "    <tr>\n",
       "      <th>4</th>\n",
       "      <td>1207.9</td>\n",
       "      <td>3.5</td>\n",
       "    </tr>\n",
       "  </tbody>\n",
       "</table>\n",
       "</div>"
      ],
      "text/plain": [
       "      dpi  unemp\n",
       "0  1186.1    6.4\n",
       "1  1178.1    5.6\n",
       "2  1196.5    4.6\n",
       "3  1210.0    4.2\n",
       "4  1207.9    3.5"
      ]
     },
     "execution_count": 3,
     "metadata": {},
     "output_type": "execute_result"
    }
   ],
   "source": [
    "X = data.loc[:, [\"dpi\", \"unemp\"]]\n",
    "X.head()"
   ]
  },
  {
   "cell_type": "code",
   "execution_count": 4,
   "metadata": {},
   "outputs": [
    {
     "data": {
      "text/html": [
       "<div>\n",
       "<style scoped>\n",
       "    .dataframe tbody tr th:only-of-type {\n",
       "        vertical-align: middle;\n",
       "    }\n",
       "\n",
       "    .dataframe tbody tr th {\n",
       "        vertical-align: top;\n",
       "    }\n",
       "\n",
       "    .dataframe thead th {\n",
       "        text-align: right;\n",
       "    }\n",
       "</style>\n",
       "<table border=\"1\" class=\"dataframe\">\n",
       "  <thead>\n",
       "    <tr style=\"text-align: right;\">\n",
       "      <th></th>\n",
       "      <th>consumption</th>\n",
       "    </tr>\n",
       "  </thead>\n",
       "  <tbody>\n",
       "    <tr>\n",
       "      <th>0</th>\n",
       "      <td>1058.9</td>\n",
       "    </tr>\n",
       "    <tr>\n",
       "      <th>1</th>\n",
       "      <td>1075.9</td>\n",
       "    </tr>\n",
       "    <tr>\n",
       "      <th>2</th>\n",
       "      <td>1131.0</td>\n",
       "    </tr>\n",
       "    <tr>\n",
       "      <th>3</th>\n",
       "      <td>1097.6</td>\n",
       "    </tr>\n",
       "    <tr>\n",
       "      <th>4</th>\n",
       "      <td>1122.8</td>\n",
       "    </tr>\n",
       "  </tbody>\n",
       "</table>\n",
       "</div>"
      ],
      "text/plain": [
       "   consumption\n",
       "0       1058.9\n",
       "1       1075.9\n",
       "2       1131.0\n",
       "3       1097.6\n",
       "4       1122.8"
      ]
     },
     "execution_count": 4,
     "metadata": {},
     "output_type": "execute_result"
    }
   ],
   "source": [
    "y = data.loc[:,[\"consumption\"]]\n",
    "y.head()"
   ]
  },
  {
   "cell_type": "markdown",
   "metadata": {},
   "source": [
    "## Taking the first difference\n",
    "\n",
    "- check the api for first difference\n",
    "- dropping the NaN values (first row)"
   ]
  },
  {
   "cell_type": "markdown",
   "metadata": {},
   "source": [
    "## Independent values X_new"
   ]
  },
  {
   "cell_type": "code",
   "execution_count": 5,
   "metadata": {},
   "outputs": [
    {
     "data": {
      "text/html": [
       "<div>\n",
       "<style scoped>\n",
       "    .dataframe tbody tr th:only-of-type {\n",
       "        vertical-align: middle;\n",
       "    }\n",
       "\n",
       "    .dataframe tbody tr th {\n",
       "        vertical-align: top;\n",
       "    }\n",
       "\n",
       "    .dataframe thead th {\n",
       "        text-align: right;\n",
       "    }\n",
       "</style>\n",
       "<table border=\"1\" class=\"dataframe\">\n",
       "  <thead>\n",
       "    <tr style=\"text-align: right;\">\n",
       "      <th></th>\n",
       "      <th>dpi</th>\n",
       "      <th>unemp</th>\n",
       "    </tr>\n",
       "  </thead>\n",
       "  <tbody>\n",
       "    <tr>\n",
       "      <th>1</th>\n",
       "      <td>-8.0</td>\n",
       "      <td>-0.8</td>\n",
       "    </tr>\n",
       "    <tr>\n",
       "      <th>2</th>\n",
       "      <td>18.4</td>\n",
       "      <td>-1.0</td>\n",
       "    </tr>\n",
       "    <tr>\n",
       "      <th>3</th>\n",
       "      <td>13.5</td>\n",
       "      <td>-0.4</td>\n",
       "    </tr>\n",
       "    <tr>\n",
       "      <th>4</th>\n",
       "      <td>-2.1</td>\n",
       "      <td>-0.7</td>\n",
       "    </tr>\n",
       "    <tr>\n",
       "      <th>5</th>\n",
       "      <td>17.9</td>\n",
       "      <td>-0.4</td>\n",
       "    </tr>\n",
       "  </tbody>\n",
       "</table>\n",
       "</div>"
      ],
      "text/plain": [
       "    dpi  unemp\n",
       "1  -8.0   -0.8\n",
       "2  18.4   -1.0\n",
       "3  13.5   -0.4\n",
       "4  -2.1   -0.7\n",
       "5  17.9   -0.4"
      ]
     },
     "execution_count": 5,
     "metadata": {},
     "output_type": "execute_result"
    }
   ],
   "source": [
    "X_new= X.diff()\n",
    "X_new = X_new.dropna()\n",
    "X_new.head()"
   ]
  },
  {
   "cell_type": "markdown",
   "metadata": {},
   "source": [
    "## dependent values Y_new"
   ]
  },
  {
   "cell_type": "code",
   "execution_count": 6,
   "metadata": {},
   "outputs": [
    {
     "data": {
      "text/html": [
       "<div>\n",
       "<style scoped>\n",
       "    .dataframe tbody tr th:only-of-type {\n",
       "        vertical-align: middle;\n",
       "    }\n",
       "\n",
       "    .dataframe tbody tr th {\n",
       "        vertical-align: top;\n",
       "    }\n",
       "\n",
       "    .dataframe thead th {\n",
       "        text-align: right;\n",
       "    }\n",
       "</style>\n",
       "<table border=\"1\" class=\"dataframe\">\n",
       "  <thead>\n",
       "    <tr style=\"text-align: right;\">\n",
       "      <th></th>\n",
       "      <th>consumption</th>\n",
       "    </tr>\n",
       "  </thead>\n",
       "  <tbody>\n",
       "    <tr>\n",
       "      <th>1</th>\n",
       "      <td>17.0</td>\n",
       "    </tr>\n",
       "    <tr>\n",
       "      <th>2</th>\n",
       "      <td>55.1</td>\n",
       "    </tr>\n",
       "    <tr>\n",
       "      <th>3</th>\n",
       "      <td>-33.4</td>\n",
       "    </tr>\n",
       "    <tr>\n",
       "      <th>4</th>\n",
       "      <td>25.2</td>\n",
       "    </tr>\n",
       "    <tr>\n",
       "      <th>5</th>\n",
       "      <td>-31.4</td>\n",
       "    </tr>\n",
       "  </tbody>\n",
       "</table>\n",
       "</div>"
      ],
      "text/plain": [
       "   consumption\n",
       "1         17.0\n",
       "2         55.1\n",
       "3        -33.4\n",
       "4         25.2\n",
       "5        -31.4"
      ]
     },
     "execution_count": 6,
     "metadata": {},
     "output_type": "execute_result"
    }
   ],
   "source": [
    "y_new = y.diff()\n",
    "y_new = y_new.dropna()\n",
    "y_new.head()"
   ]
  },
  {
   "cell_type": "markdown",
   "metadata": {},
   "source": [
    "## Computing the correlation between two independent variables (DPI & Unemp)"
   ]
  },
  {
   "cell_type": "code",
   "execution_count": 7,
   "metadata": {},
   "outputs": [
    {
     "data": {
      "image/png": "[encoded data removed]",
      "text/plain": [
       "<Figure size 360x360 with 2 Axes>"
      ]
     },
     "metadata": {
      "needs_background": "light"
     },
     "output_type": "display_data"
    },
    {
     "name": "stdout",
     "output_type": "stream",
     "text": [
      "            dpi     unemp\n",
      "dpi    1.000000 -0.295534\n",
      "unemp -0.295534  1.000000\n"
     ]
    }
   ],
   "source": [
    "corr = X_new.corr()\n",
    "fig = plt.figure(figsize=(5, 5))\n",
    "ax = fig.add_subplot(111)\n",
    "cax = ax.matshow(corr,cmap='coolwarm', vmin=-1, vmax=1)\n",
    "fig.colorbar(cax)\n",
    "ticks = np.arange(0,len(X.columns),1)\n",
    "ax.set_xticks(ticks)\n",
    "plt.xticks(rotation=90)\n",
    "ax.set_yticks(ticks)\n",
    "ax.set_xticklabels(X.columns)\n",
    "ax.set_yticklabels(X.columns)\n",
    "plt.show()\n",
    "\n",
    "print(corr)"
   ]
  },
  {
   "cell_type": "markdown",
   "metadata": {},
   "source": [
    "## Visualization of RAW data for varibles : DPI & Unemp vs Date"
   ]
  },
  {
   "cell_type": "code",
   "execution_count": 8,
   "metadata": {},
   "outputs": [
    {
     "data": {
      "text/plain": [
       "<seaborn.axisgrid.PairGrid at 0x7f5dc147ed90>"
      ]
     },
     "execution_count": 8,
     "metadata": {},
     "output_type": "execute_result"
    },
    {
     "data": {
      "image/png": "[encoded data removed]",
      "text/plain": [
       "<Figure size 720x360 with 2 Axes>"
      ]
     },
     "metadata": {
      "needs_background": "light"
     },
     "output_type": "display_data"
    }
   ],
   "source": [
    "sns.pairplot(data, x_vars=['dpi','unemp'], y_vars='date', height=5, aspect=1)"
   ]
  },
  {
   "cell_type": "markdown",
   "metadata": {},
   "source": [
    "## creating new data frame\n",
    "\n",
    "- Adding constant to the new data frame "
   ]
  },
  {
   "cell_type": "code",
   "execution_count": 9,
   "metadata": {},
   "outputs": [
    {
     "name": "stderr",
     "output_type": "stream",
     "text": [
      "/home/saif/anaconda3/envs/myclone1/lib/python3.7/site-packages/numpy/core/fromnumeric.py:2389: FutureWarning: Method .ptp is deprecated and will be removed in a future version. Use numpy.ptp instead.\n",
      "  return ptp(axis=axis, out=out, **kwargs)\n"
     ]
    },
    {
     "data": {
      "text/html": [
       "<div>\n",
       "<style scoped>\n",
       "    .dataframe tbody tr th:only-of-type {\n",
       "        vertical-align: middle;\n",
       "    }\n",
       "\n",
       "    .dataframe tbody tr th {\n",
       "        vertical-align: top;\n",
       "    }\n",
       "\n",
       "    .dataframe thead th {\n",
       "        text-align: right;\n",
       "    }\n",
       "</style>\n",
       "<table border=\"1\" class=\"dataframe\">\n",
       "  <thead>\n",
       "    <tr style=\"text-align: right;\">\n",
       "      <th></th>\n",
       "      <th>const</th>\n",
       "      <th>dpi</th>\n",
       "      <th>unemp</th>\n",
       "    </tr>\n",
       "  </thead>\n",
       "  <tbody>\n",
       "    <tr>\n",
       "      <th>1</th>\n",
       "      <td>1.0</td>\n",
       "      <td>-8.0</td>\n",
       "      <td>-0.8</td>\n",
       "    </tr>\n",
       "    <tr>\n",
       "      <th>2</th>\n",
       "      <td>1.0</td>\n",
       "      <td>18.4</td>\n",
       "      <td>-1.0</td>\n",
       "    </tr>\n",
       "    <tr>\n",
       "      <th>3</th>\n",
       "      <td>1.0</td>\n",
       "      <td>13.5</td>\n",
       "      <td>-0.4</td>\n",
       "    </tr>\n",
       "    <tr>\n",
       "      <th>4</th>\n",
       "      <td>1.0</td>\n",
       "      <td>-2.1</td>\n",
       "      <td>-0.7</td>\n",
       "    </tr>\n",
       "    <tr>\n",
       "      <th>5</th>\n",
       "      <td>1.0</td>\n",
       "      <td>17.9</td>\n",
       "      <td>-0.4</td>\n",
       "    </tr>\n",
       "  </tbody>\n",
       "</table>\n",
       "</div>"
      ],
      "text/plain": [
       "   const   dpi  unemp\n",
       "1    1.0  -8.0   -0.8\n",
       "2    1.0  18.4   -1.0\n",
       "3    1.0  13.5   -0.4\n",
       "4    1.0  -2.1   -0.7\n",
       "5    1.0  17.9   -0.4"
      ]
     },
     "execution_count": 9,
     "metadata": {},
     "output_type": "execute_result"
    }
   ],
   "source": [
    "df = sm.add_constant(X_new)\n",
    "df.head()"
   ]
  },
  {
   "cell_type": "code",
   "execution_count": 10,
   "metadata": {},
   "outputs": [
    {
     "data": {
      "text/html": [
       "<div>\n",
       "<style scoped>\n",
       "    .dataframe tbody tr th:only-of-type {\n",
       "        vertical-align: middle;\n",
       "    }\n",
       "\n",
       "    .dataframe tbody tr th {\n",
       "        vertical-align: top;\n",
       "    }\n",
       "\n",
       "    .dataframe thead th {\n",
       "        text-align: right;\n",
       "    }\n",
       "</style>\n",
       "<table border=\"1\" class=\"dataframe\">\n",
       "  <thead>\n",
       "    <tr style=\"text-align: right;\">\n",
       "      <th></th>\n",
       "      <th>const</th>\n",
       "      <th>dpi</th>\n",
       "      <th>unemp</th>\n",
       "      <th>consumption</th>\n",
       "    </tr>\n",
       "  </thead>\n",
       "  <tbody>\n",
       "    <tr>\n",
       "      <th>1</th>\n",
       "      <td>1.0</td>\n",
       "      <td>-8.0</td>\n",
       "      <td>-0.8</td>\n",
       "      <td>17.0</td>\n",
       "    </tr>\n",
       "    <tr>\n",
       "      <th>2</th>\n",
       "      <td>1.0</td>\n",
       "      <td>18.4</td>\n",
       "      <td>-1.0</td>\n",
       "      <td>55.1</td>\n",
       "    </tr>\n",
       "    <tr>\n",
       "      <th>3</th>\n",
       "      <td>1.0</td>\n",
       "      <td>13.5</td>\n",
       "      <td>-0.4</td>\n",
       "      <td>-33.4</td>\n",
       "    </tr>\n",
       "    <tr>\n",
       "      <th>4</th>\n",
       "      <td>1.0</td>\n",
       "      <td>-2.1</td>\n",
       "      <td>-0.7</td>\n",
       "      <td>25.2</td>\n",
       "    </tr>\n",
       "    <tr>\n",
       "      <th>5</th>\n",
       "      <td>1.0</td>\n",
       "      <td>17.9</td>\n",
       "      <td>-0.4</td>\n",
       "      <td>-31.4</td>\n",
       "    </tr>\n",
       "  </tbody>\n",
       "</table>\n",
       "</div>"
      ],
      "text/plain": [
       "   const   dpi  unemp  consumption\n",
       "1    1.0  -8.0   -0.8         17.0\n",
       "2    1.0  18.4   -1.0         55.1\n",
       "3    1.0  13.5   -0.4        -33.4\n",
       "4    1.0  -2.1   -0.7         25.2\n",
       "5    1.0  17.9   -0.4        -31.4"
      ]
     },
     "execution_count": 10,
     "metadata": {},
     "output_type": "execute_result"
    }
   ],
   "source": [
    "df['consumption'] = y_new['consumption']\n",
    "df.head()"
   ]
  },
  {
   "cell_type": "markdown",
   "metadata": {},
   "source": [
    "## scatter plot for dpi/unemp vs Consumption\n",
    "\n",
    "## Data Visualization after first difference"
   ]
  },
  {
   "cell_type": "code",
   "execution_count": 11,
   "metadata": {},
   "outputs": [
    {
     "data": {
      "text/plain": [
       "<seaborn.axisgrid.PairGrid at 0x7f5dc102e350>"
      ]
     },
     "execution_count": 11,
     "metadata": {},
     "output_type": "execute_result"
    },
    {
     "data": {
      "image/png": "[encoded data removed]",
      "text/plain": [
       "<Figure size 720x360 with 2 Axes>"
      ]
     },
     "metadata": {
      "needs_background": "light"
     },
     "output_type": "display_data"
    }
   ],
   "source": [
    "sns.pairplot(df, x_vars=['dpi','unemp'], y_vars='consumption', height=5, aspect=1)"
   ]
  },
  {
   "cell_type": "markdown",
   "metadata": {},
   "source": [
    "# Task 1 : Fitting the model to equation:Linear Regression \n",
    "\n",
    "\\begin{align}\n",
    "    D(Consumption) = \\alpha + \\beta_1 * D(dpi) + \\beta_2 * D(Unemp)\n",
    "\\end{align}\n",
    "\n",
    "### Linear Regression from Statsmodel libraries would be used for fitting model"
   ]
  },
  {
   "cell_type": "code",
   "execution_count": 12,
   "metadata": {},
   "outputs": [],
   "source": [
    "lm1 = smf.ols(formula='consumption ~ dpi + unemp', data=df).fit()"
   ]
  },
  {
   "cell_type": "markdown",
   "metadata": {},
   "source": [
    "## Regenerating the reports"
   ]
  },
  {
   "cell_type": "code",
   "execution_count": 13,
   "metadata": {},
   "outputs": [
    {
     "data": {
      "text/html": [
       "<table class=\"simpletable\">\n",
       "<caption>OLS Regression Results</caption>\n",
       "<tr>\n",
       "  <th>Dep. Variable:</th>       <td>consumption</td>   <th>  R-squared:         </th> <td>   0.335</td>\n",
       "</tr>\n",
       "<tr>\n",
       "  <th>Model:</th>                   <td>OLS</td>       <th>  Adj. R-squared:    </th> <td>   0.328</td>\n",
       "</tr>\n",
       "<tr>\n",
       "  <th>Method:</th>             <td>Least Squares</td>  <th>  F-statistic:       </th> <td>   50.31</td>\n",
       "</tr>\n",
       "<tr>\n",
       "  <th>Date:</th>             <td>Fri, 24 Jan 2020</td> <th>  Prob (F-statistic):</th> <td>2.00e-18</td>\n",
       "</tr>\n",
       "<tr>\n",
       "  <th>Time:</th>                 <td>10:52:51</td>     <th>  Log-Likelihood:    </th> <td> -898.12</td>\n",
       "</tr>\n",
       "<tr>\n",
       "  <th>No. Observations:</th>      <td>   203</td>      <th>  AIC:               </th> <td>   1802.</td>\n",
       "</tr>\n",
       "<tr>\n",
       "  <th>Df Residuals:</th>          <td>   200</td>      <th>  BIC:               </th> <td>   1812.</td>\n",
       "</tr>\n",
       "<tr>\n",
       "  <th>Df Model:</th>              <td>     2</td>      <th>                     </th>     <td> </td>   \n",
       "</tr>\n",
       "<tr>\n",
       "  <th>Covariance Type:</th>      <td>nonrobust</td>    <th>                     </th>     <td> </td>   \n",
       "</tr>\n",
       "</table>\n",
       "<table class=\"simpletable\">\n",
       "<tr>\n",
       "      <td></td>         <th>coef</th>     <th>std err</th>      <th>t</th>      <th>P>|t|</th>  <th>[0.025</th>    <th>0.975]</th>  \n",
       "</tr>\n",
       "<tr>\n",
       "  <th>Intercept</th> <td>   16.2848</td> <td>    1.911</td> <td>    8.522</td> <td> 0.000</td> <td>   12.517</td> <td>   20.053</td>\n",
       "</tr>\n",
       "<tr>\n",
       "  <th>dpi</th>       <td>    0.3557</td> <td>    0.048</td> <td>    7.444</td> <td> 0.000</td> <td>    0.261</td> <td>    0.450</td>\n",
       "</tr>\n",
       "<tr>\n",
       "  <th>unemp</th>     <td>  -16.0149</td> <td>    3.792</td> <td>   -4.223</td> <td> 0.000</td> <td>  -23.493</td> <td>   -8.537</td>\n",
       "</tr>\n",
       "</table>\n",
       "<table class=\"simpletable\">\n",
       "<tr>\n",
       "  <th>Omnibus:</th>       <td>12.022</td> <th>  Durbin-Watson:     </th> <td>   1.767</td>\n",
       "</tr>\n",
       "<tr>\n",
       "  <th>Prob(Omnibus):</th> <td> 0.002</td> <th>  Jarque-Bera (JB):  </th> <td>  14.257</td>\n",
       "</tr>\n",
       "<tr>\n",
       "  <th>Skew:</th>          <td> 0.459</td> <th>  Prob(JB):          </th> <td>0.000802</td>\n",
       "</tr>\n",
       "<tr>\n",
       "  <th>Kurtosis:</th>      <td> 3.919</td> <th>  Cond. No.          </th> <td>    110.</td>\n",
       "</tr>\n",
       "</table><br/><br/>Warnings:<br/>[1] Standard Errors assume that the covariance matrix of the errors is correctly specified."
      ],
      "text/plain": [
       "<class 'statsmodels.iolib.summary.Summary'>\n",
       "\"\"\"\n",
       "                            OLS Regression Results                            \n",
       "==============================================================================\n",
       "Dep. Variable:            consumption   R-squared:                       0.335\n",
       "Model:                            OLS   Adj. R-squared:                  0.328\n",
       "Method:                 Least Squares   F-statistic:                     50.31\n",
       "Date:                Fri, 24 Jan 2020   Prob (F-statistic):           2.00e-18\n",
       "Time:                        10:52:51   Log-Likelihood:                -898.12\n",
       "No. Observations:                 203   AIC:                             1802.\n",
       "Df Residuals:                     200   BIC:                             1812.\n",
       "Df Model:                           2                                         \n",
       "Covariance Type:            nonrobust                                         \n",
       "==============================================================================\n",
       "                 coef    std err          t      P>|t|      [0.025      0.975]\n",
       "------------------------------------------------------------------------------\n",
       "Intercept     16.2848      1.911      8.522      0.000      12.517      20.053\n",
       "dpi            0.3557      0.048      7.444      0.000       0.261       0.450\n",
       "unemp        -16.0149      3.792     -4.223      0.000     -23.493      -8.537\n",
       "==============================================================================\n",
       "Omnibus:                       12.022   Durbin-Watson:                   1.767\n",
       "Prob(Omnibus):                  0.002   Jarque-Bera (JB):               14.257\n",
       "Skew:                           0.459   Prob(JB):                     0.000802\n",
       "Kurtosis:                       3.919   Cond. No.                         110.\n",
       "==============================================================================\n",
       "\n",
       "Warnings:\n",
       "[1] Standard Errors assume that the covariance matrix of the errors is correctly specified.\n",
       "\"\"\""
      ]
     },
     "execution_count": 13,
     "metadata": {},
     "output_type": "execute_result"
    }
   ],
   "source": [
    "lm1.summary()"
   ]
  },
  {
   "cell_type": "markdown",
   "metadata": {},
   "source": [
    "## probabilities"
   ]
  },
  {
   "cell_type": "code",
   "execution_count": 14,
   "metadata": {},
   "outputs": [
    {
     "data": {
      "text/plain": [
       "Intercept    3.785079e-15\n",
       "dpi          2.844072e-12\n",
       "unemp        3.656540e-05\n",
       "dtype: float64"
      ]
     },
     "execution_count": 14,
     "metadata": {},
     "output_type": "execute_result"
    }
   ],
   "source": [
    "lm1.pvalues"
   ]
  },
  {
   "cell_type": "markdown",
   "metadata": {},
   "source": [
    "## Standard Error"
   ]
  },
  {
   "cell_type": "code",
   "execution_count": 15,
   "metadata": {},
   "outputs": [
    {
     "name": "stdout",
     "output_type": "stream",
     "text": [
      "Intercept    1.910841\n",
      "dpi          0.047779\n",
      "unemp        3.792157\n",
      "dtype: float64\n"
     ]
    }
   ],
   "source": [
    "print(lm1.bse)"
   ]
  },
  {
   "cell_type": "markdown",
   "metadata": {},
   "source": [
    "## predicting the values"
   ]
  },
  {
   "cell_type": "code",
   "execution_count": 16,
   "metadata": {},
   "outputs": [],
   "source": [
    "predictions_lm1 = lm1.predict(X_new)"
   ]
  },
  {
   "cell_type": "markdown",
   "metadata": {},
   "source": [
    "## Evaluating the accuracy of the regression.\n",
    "\n",
    "this is done by \n",
    "- R2\n",
    "- MSE errror\n",
    "- RMSE"
   ]
  },
  {
   "cell_type": "code",
   "execution_count": 17,
   "metadata": {},
   "outputs": [
    {
     "name": "stdout",
     "output_type": "stream",
     "text": [
      "R2 :  0.33470312951307557\n",
      "MSE:  82767.10416466574\n",
      "RMSE: 20.192070843504197\n"
     ]
    }
   ],
   "source": [
    "# mean squared error\n",
    "mse = np.sum((df['consumption'] - predictions_lm1)**2)\n",
    "\n",
    "# root mean squared error\n",
    "rmse = np.sqrt(mse/len(df['consumption']))\n",
    "\n",
    "print('R2 : ', lm1.rsquared)\n",
    "print('MSE: ', mse)\n",
    "print('RMSE:', rmse)"
   ]
  },
  {
   "cell_type": "markdown",
   "metadata": {},
   "source": [
    "## Visualization of fitted values against independent values"
   ]
  },
  {
   "cell_type": "code",
   "execution_count": 18,
   "metadata": {},
   "outputs": [
    {
     "data": {
      "text/plain": [
       "<matplotlib.legend.Legend at 0x7f5dc0654550>"
      ]
     },
     "execution_count": 18,
     "metadata": {},
     "output_type": "execute_result"
    },
    {
     "data": {
      "image/png": "[encoded data removed]",
      "text/plain": [
       "<Figure size 720x360 with 1 Axes>"
      ]
     },
     "metadata": {
      "needs_background": "light"
     },
     "output_type": "display_data"
    }
   ],
   "source": [
    "fig, ax = plt.subplots(figsize=(10, 5))\n",
    "fig = sm.graphics.plot_fit(lm1, \"dpi\", ax=ax)\n",
    "plt.legend(loc='lower right')"
   ]
  },
  {
   "cell_type": "code",
   "execution_count": 19,
   "metadata": {},
   "outputs": [
    {
     "data": {
      "image/png": "[encoded data removed]",
      "text/plain": [
       "<Figure size 720x360 with 1 Axes>"
      ]
     },
     "metadata": {
      "needs_background": "light"
     },
     "output_type": "display_data"
    }
   ],
   "source": [
    "fig, ax = plt.subplots(figsize=(10, 5))\n",
    "fig = sm.graphics.plot_fit(lm1, \"unemp\", ax=ax)"
   ]
  },
  {
   "cell_type": "markdown",
   "metadata": {},
   "source": [
    "## residuals vs fitted values\n",
    "\n",
    "- using statsmodel\n",
    "- to check the linear correlation between dependent variable and independent variables"
   ]
  },
  {
   "cell_type": "code",
   "execution_count": 20,
   "metadata": {},
   "outputs": [
    {
     "data": {
      "image/png": "[encoded data removed]",
      "text/plain": [
       "<Figure size 432x288 with 1 Axes>"
      ]
     },
     "metadata": {
      "needs_background": "light"
     },
     "output_type": "display_data"
    }
   ],
   "source": [
    "plt.scatter(lm1.fittedvalues, lm1.resid,edgecolor='k')\n",
    "xmin=min(lm1.fittedvalues)\n",
    "xmax = max(lm1.fittedvalues)\n",
    "plt.hlines(y=0,xmin=xmin*0.9,xmax=xmax*1.1,color='red',linestyle='--',lw=3)\n",
    "plt.xlabel('fitted values',fontsize=14)\n",
    "plt.ylabel('Residuals',fontsize=14)\n",
    "plt.grid(True)\n",
    "plt.show()"
   ]
  },
  {
   "cell_type": "markdown",
   "metadata": {},
   "source": [
    "## Histogram of normalized residuals"
   ]
  },
  {
   "cell_type": "code",
   "execution_count": 21,
   "metadata": {},
   "outputs": [
    {
     "data": {
      "image/png": "[encoded data removed]",
      "text/plain": [
       "<Figure size 504x360 with 1 Axes>"
      ]
     },
     "metadata": {
      "needs_background": "light"
     },
     "output_type": "display_data"
    }
   ],
   "source": [
    "plt.figure(figsize=(7,5))\n",
    "plt.hist(lm1.resid_pearson,bins=20,edgecolor='k')\n",
    "plt.ylabel('Count',fontsize=15)\n",
    "plt.xlabel('Normalized residuals',fontsize=15)\n",
    "plt.title(\"Histogram of normalized residuals\",fontsize=18)\n",
    "plt.show()"
   ]
  },
  {
   "cell_type": "markdown",
   "metadata": {},
   "source": [
    "## Q-Q plot"
   ]
  },
  {
   "cell_type": "code",
   "execution_count": 22,
   "metadata": {},
   "outputs": [
    {
     "data": {
      "text/plain": [
       "<Figure size 576x360 with 0 Axes>"
      ]
     },
     "metadata": {},
     "output_type": "display_data"
    },
    {
     "data": {
      "image/png": "[encoded data removed]",
      "text/plain": [
       "<Figure size 432x288 with 1 Axes>"
      ]
     },
     "metadata": {
      "needs_background": "light"
     },
     "output_type": "display_data"
    }
   ],
   "source": [
    "plt.figure(figsize=(8,5))\n",
    "fig=qqplot(lm1.resid_pearson,line='45',fit='True')\n",
    "plt.xticks(fontsize=13)\n",
    "plt.yticks(fontsize=13)\n",
    "plt.xlabel(\"Theoretical quantiles\",fontsize=15)\n",
    "plt.ylabel(\"Sample quantiles\",fontsize=15)\n",
    "plt.title(\"Q-Q plot of normalized residuals\",fontsize=18)\n",
    "plt.grid(True)\n",
    "plt.show()"
   ]
  },
  {
   "cell_type": "markdown",
   "metadata": {},
   "source": [
    "# Task 2 : Outlier detection\n",
    "\n",
    "## Using Tukey method\n",
    "\n",
    "\\begin{align}\n",
    "    [Q_{0.25} * (x) - 1.5 * IQR,Q_{0.75} * (x) + 1.5 * IQR]\n",
    "\\end{align}\n"
   ]
  },
  {
   "cell_type": "code",
   "execution_count": 23,
   "metadata": {},
   "outputs": [
    {
     "name": "stdout",
     "output_type": "stream",
     "text": [
      "22.396772195523187\n"
     ]
    }
   ],
   "source": [
    "Q1 = lm1.resid.quantile(0.25)\n",
    "Q3 = lm1.resid.quantile(0.75)\n",
    "IQR = Q3 - Q1\n",
    "print(IQR)"
   ]
  },
  {
   "cell_type": "code",
   "execution_count": 24,
   "metadata": {},
   "outputs": [
    {
     "data": {
      "text/plain": [
       "(203,)"
      ]
     },
     "execution_count": 24,
     "metadata": {},
     "output_type": "execute_result"
    }
   ],
   "source": [
    "resi_error = lm1.resid\n",
    "lm1.resid.shape"
   ]
  },
  {
   "cell_type": "code",
   "execution_count": 25,
   "metadata": {},
   "outputs": [
    {
     "name": "stdout",
     "output_type": "stream",
     "text": [
      "1      False\n",
      "2      False\n",
      "3       True\n",
      "4      False\n",
      "5       True\n",
      "       ...  \n",
      "199     True\n",
      "200     True\n",
      "201    False\n",
      "202    False\n",
      "203    False\n",
      "Length: 203, dtype: bool\n"
     ]
    }
   ],
   "source": [
    "print((lm1.resid < (Q1 - 1.5 * IQR))|(lm1.resid > (Q3 + 1.5 * IQR)))"
   ]
  },
  {
   "cell_type": "markdown",
   "metadata": {},
   "source": [
    "## removing the outliers"
   ]
  },
  {
   "cell_type": "code",
   "execution_count": 26,
   "metadata": {},
   "outputs": [],
   "source": [
    "resi_error = resi_error[~((resi_error < (Q1 - 1.5 * IQR))|(resi_error > (Q3 + 1.5 * IQR)))]"
   ]
  },
  {
   "cell_type": "markdown",
   "metadata": {},
   "source": [
    "## Shape of resi_error"
   ]
  },
  {
   "cell_type": "code",
   "execution_count": 27,
   "metadata": {},
   "outputs": [
    {
     "data": {
      "text/plain": [
       "(191,)"
      ]
     },
     "execution_count": 27,
     "metadata": {},
     "output_type": "execute_result"
    }
   ],
   "source": [
    "resi_error.shape"
   ]
  },
  {
   "cell_type": "markdown",
   "metadata": {},
   "source": [
    "## creating new dataframe by removing the outliers from the source data X1_new & df"
   ]
  },
  {
   "cell_type": "code",
   "execution_count": 28,
   "metadata": {},
   "outputs": [],
   "source": [
    "X1_new = X_new[~((lm1.resid < (Q1 - 1.5 * IQR))|(lm1.resid > (Q3 + 1.5 * IQR)))]"
   ]
  },
  {
   "cell_type": "code",
   "execution_count": 29,
   "metadata": {},
   "outputs": [],
   "source": [
    "df1_new = df[~((lm1.resid < (Q1 - 1.5 * IQR))|(lm1.resid > (Q3 + 1.5 * IQR)))]"
   ]
  },
  {
   "cell_type": "markdown",
   "metadata": {},
   "source": [
    "## Number of outliers"
   ]
  },
  {
   "cell_type": "code",
   "execution_count": 30,
   "metadata": {},
   "outputs": [],
   "source": [
    "fals_X1 = X_new[((lm1.resid < (Q1 - 1.5 * IQR))|(lm1.resid > (Q3 + 1.5 * IQR)))]"
   ]
  },
  {
   "cell_type": "code",
   "execution_count": 31,
   "metadata": {},
   "outputs": [
    {
     "data": {
      "text/plain": [
       "12"
      ]
     },
     "execution_count": 31,
     "metadata": {},
     "output_type": "execute_result"
    }
   ],
   "source": [
    "len(fals_X1)"
   ]
  },
  {
   "cell_type": "markdown",
   "metadata": {},
   "source": [
    "## fitting the model again on revised data\n",
    "\n",
    "- the outliers has been removed and LR has been performed agained"
   ]
  },
  {
   "cell_type": "code",
   "execution_count": 32,
   "metadata": {},
   "outputs": [],
   "source": [
    "lm2 = smf.ols(formula='consumption ~ dpi + unemp', data=df1_new).fit()"
   ]
  },
  {
   "cell_type": "code",
   "execution_count": 33,
   "metadata": {},
   "outputs": [
    {
     "data": {
      "text/html": [
       "<table class=\"simpletable\">\n",
       "<caption>OLS Regression Results</caption>\n",
       "<tr>\n",
       "  <th>Dep. Variable:</th>       <td>consumption</td>   <th>  R-squared:         </th> <td>   0.430</td>\n",
       "</tr>\n",
       "<tr>\n",
       "  <th>Model:</th>                   <td>OLS</td>       <th>  Adj. R-squared:    </th> <td>   0.424</td>\n",
       "</tr>\n",
       "<tr>\n",
       "  <th>Method:</th>             <td>Least Squares</td>  <th>  F-statistic:       </th> <td>   70.90</td>\n",
       "</tr>\n",
       "<tr>\n",
       "  <th>Date:</th>             <td>Fri, 24 Jan 2020</td> <th>  Prob (F-statistic):</th> <td>1.14e-23</td>\n",
       "</tr>\n",
       "<tr>\n",
       "  <th>Time:</th>                 <td>10:57:12</td>     <th>  Log-Likelihood:    </th> <td> -803.04</td>\n",
       "</tr>\n",
       "<tr>\n",
       "  <th>No. Observations:</th>      <td>   191</td>      <th>  AIC:               </th> <td>   1612.</td>\n",
       "</tr>\n",
       "<tr>\n",
       "  <th>Df Residuals:</th>          <td>   188</td>      <th>  BIC:               </th> <td>   1622.</td>\n",
       "</tr>\n",
       "<tr>\n",
       "  <th>Df Model:</th>              <td>     2</td>      <th>                     </th>     <td> </td>   \n",
       "</tr>\n",
       "<tr>\n",
       "  <th>Covariance Type:</th>      <td>nonrobust</td>    <th>                     </th>     <td> </td>   \n",
       "</tr>\n",
       "</table>\n",
       "<table class=\"simpletable\">\n",
       "<tr>\n",
       "      <td></td>         <th>coef</th>     <th>std err</th>      <th>t</th>      <th>P>|t|</th>  <th>[0.025</th>    <th>0.975]</th>  \n",
       "</tr>\n",
       "<tr>\n",
       "  <th>Intercept</th> <td>   14.6840</td> <td>    1.642</td> <td>    8.944</td> <td> 0.000</td> <td>   11.445</td> <td>   17.923</td>\n",
       "</tr>\n",
       "<tr>\n",
       "  <th>dpi</th>       <td>    0.3614</td> <td>    0.041</td> <td>    8.842</td> <td> 0.000</td> <td>    0.281</td> <td>    0.442</td>\n",
       "</tr>\n",
       "<tr>\n",
       "  <th>unemp</th>     <td>  -15.9717</td> <td>    3.146</td> <td>   -5.077</td> <td> 0.000</td> <td>  -22.178</td> <td>   -9.765</td>\n",
       "</tr>\n",
       "</table>\n",
       "<table class=\"simpletable\">\n",
       "<tr>\n",
       "  <th>Omnibus:</th>       <td> 9.505</td> <th>  Durbin-Watson:     </th> <td>   1.821</td>\n",
       "</tr>\n",
       "<tr>\n",
       "  <th>Prob(Omnibus):</th> <td> 0.009</td> <th>  Jarque-Bera (JB):  </th> <td>   9.507</td>\n",
       "</tr>\n",
       "<tr>\n",
       "  <th>Skew:</th>          <td> 0.528</td> <th>  Prob(JB):          </th> <td> 0.00862</td>\n",
       "</tr>\n",
       "<tr>\n",
       "  <th>Kurtosis:</th>      <td> 3.283</td> <th>  Cond. No.          </th> <td>    111.</td>\n",
       "</tr>\n",
       "</table><br/><br/>Warnings:<br/>[1] Standard Errors assume that the covariance matrix of the errors is correctly specified."
      ],
      "text/plain": [
       "<class 'statsmodels.iolib.summary.Summary'>\n",
       "\"\"\"\n",
       "                            OLS Regression Results                            \n",
       "==============================================================================\n",
       "Dep. Variable:            consumption   R-squared:                       0.430\n",
       "Model:                            OLS   Adj. R-squared:                  0.424\n",
       "Method:                 Least Squares   F-statistic:                     70.90\n",
       "Date:                Fri, 24 Jan 2020   Prob (F-statistic):           1.14e-23\n",
       "Time:                        10:57:12   Log-Likelihood:                -803.04\n",
       "No. Observations:                 191   AIC:                             1612.\n",
       "Df Residuals:                     188   BIC:                             1622.\n",
       "Df Model:                           2                                         \n",
       "Covariance Type:            nonrobust                                         \n",
       "==============================================================================\n",
       "                 coef    std err          t      P>|t|      [0.025      0.975]\n",
       "------------------------------------------------------------------------------\n",
       "Intercept     14.6840      1.642      8.944      0.000      11.445      17.923\n",
       "dpi            0.3614      0.041      8.842      0.000       0.281       0.442\n",
       "unemp        -15.9717      3.146     -5.077      0.000     -22.178      -9.765\n",
       "==============================================================================\n",
       "Omnibus:                        9.505   Durbin-Watson:                   1.821\n",
       "Prob(Omnibus):                  0.009   Jarque-Bera (JB):                9.507\n",
       "Skew:                           0.528   Prob(JB):                      0.00862\n",
       "Kurtosis:                       3.283   Cond. No.                         111.\n",
       "==============================================================================\n",
       "\n",
       "Warnings:\n",
       "[1] Standard Errors assume that the covariance matrix of the errors is correctly specified.\n",
       "\"\"\""
      ]
     },
     "execution_count": 33,
     "metadata": {},
     "output_type": "execute_result"
    }
   ],
   "source": [
    "lm2.summary()"
   ]
  },
  {
   "cell_type": "markdown",
   "metadata": {},
   "source": [
    "## probabilities"
   ]
  },
  {
   "cell_type": "code",
   "execution_count": 34,
   "metadata": {},
   "outputs": [
    {
     "data": {
      "text/plain": [
       "Intercept    3.785079e-15\n",
       "dpi          2.844072e-12\n",
       "unemp        3.656540e-05\n",
       "dtype: float64"
      ]
     },
     "execution_count": 34,
     "metadata": {},
     "output_type": "execute_result"
    }
   ],
   "source": [
    "lm1.pvalues"
   ]
  },
  {
   "cell_type": "markdown",
   "metadata": {},
   "source": [
    "## Standard Error"
   ]
  },
  {
   "cell_type": "code",
   "execution_count": 35,
   "metadata": {},
   "outputs": [
    {
     "name": "stdout",
     "output_type": "stream",
     "text": [
      "Intercept    1.910841\n",
      "dpi          0.047779\n",
      "unemp        3.792157\n",
      "dtype: float64\n"
     ]
    }
   ],
   "source": [
    "print(lm1.bse)"
   ]
  },
  {
   "cell_type": "code",
   "execution_count": 36,
   "metadata": {},
   "outputs": [],
   "source": [
    "predictions_lm2 = lm2.predict(X1_new)"
   ]
  },
  {
   "cell_type": "code",
   "execution_count": 37,
   "metadata": {},
   "outputs": [
    {
     "name": "stdout",
     "output_type": "stream",
     "text": [
      "R2 :  0.4299464569815873\n",
      "MSE:  50171.13649797016\n",
      "RMSE: 16.207285624657064\n"
     ]
    }
   ],
   "source": [
    "# mean squared error\n",
    "mse = np.sum((df1_new['consumption'] - predictions_lm2)**2)\n",
    "\n",
    "# root mean squared error\n",
    "# m is the number of training examples\n",
    "rmse = np.sqrt(mse/len(lm2.resid))\n",
    "\n",
    "print('R2 : ', lm2.rsquared)\n",
    "print('MSE: ', mse)\n",
    "print('RMSE:', rmse)"
   ]
  },
  {
   "cell_type": "markdown",
   "metadata": {},
   "source": [
    "## residuals vs fitted values\n",
    "\n",
    "- to check the linear correlation between dependent variable and independent variables"
   ]
  },
  {
   "cell_type": "code",
   "execution_count": 38,
   "metadata": {},
   "outputs": [
    {
     "data": {
      "image/png": "[encoded data removed]",
      "text/plain": [
       "<Figure size 432x288 with 1 Axes>"
      ]
     },
     "metadata": {
      "needs_background": "light"
     },
     "output_type": "display_data"
    }
   ],
   "source": [
    "plt.scatter(lm2.fittedvalues, lm2.resid,edgecolor='k')\n",
    "xmin=min(lm2.fittedvalues)\n",
    "xmax = max(lm2.fittedvalues)\n",
    "plt.hlines(y=0,xmin=xmin*0.9,xmax=xmax*1.1,color='red',linestyle='--',lw=3)\n",
    "plt.xlabel('fitted values',fontsize=14)\n",
    "plt.ylabel('Residuals',fontsize=14)\n",
    "plt.grid(True)\n",
    "plt.show()"
   ]
  },
  {
   "cell_type": "code",
   "execution_count": 39,
   "metadata": {},
   "outputs": [
    {
     "data": {
      "image/png": "[encoded data removed]",
      "text/plain": [
       "<Figure size 576x360 with 1 Axes>"
      ]
     },
     "metadata": {
      "needs_background": "light"
     },
     "output_type": "display_data"
    }
   ],
   "source": [
    "plt.figure(figsize=(8,5))\n",
    "plt.hist(lm2.resid_pearson,bins=20,edgecolor='k')\n",
    "plt.ylabel('Count',fontsize=15)\n",
    "plt.xlabel('Normalized residuals',fontsize=15)\n",
    "plt.title(\"Historgram after Removing Outliers\",fontsize=18)\n",
    "plt.show()"
   ]
  },
  {
   "cell_type": "code",
   "execution_count": 40,
   "metadata": {},
   "outputs": [
    {
     "data": {
      "text/plain": [
       "<Figure size 576x360 with 0 Axes>"
      ]
     },
     "metadata": {},
     "output_type": "display_data"
    },
    {
     "data": {
      "image/png": "[encoded data removed]",
      "text/plain": [
       "<Figure size 432x288 with 1 Axes>"
      ]
     },
     "metadata": {
      "needs_background": "light"
     },
     "output_type": "display_data"
    }
   ],
   "source": [
    "plt.figure(figsize=(8,5))\n",
    "fig=qqplot(lm2.resid_pearson,line='45',fit='True')\n",
    "plt.xticks(fontsize=13)\n",
    "plt.yticks(fontsize=13)\n",
    "plt.xlabel(\"Theoretical quantiles\",fontsize=15)\n",
    "plt.ylabel(\"Sample quantiles\",fontsize=15)\n",
    "plt.title(\"Q-Q plot of normalized residuals\",fontsize=18)\n",
    "plt.grid(True)\n",
    "plt.show()"
   ]
  },
  {
   "cell_type": "code",
   "execution_count": 41,
   "metadata": {},
   "outputs": [
    {
     "data": {
      "image/png": "[encoded data removed]",
      "text/plain": [
       "<Figure size 720x360 with 1 Axes>"
      ]
     },
     "metadata": {
      "needs_background": "light"
     },
     "output_type": "display_data"
    }
   ],
   "source": [
    "fig = plt.figure(figsize=(10, 5))\n",
    "# plt.plot(predictions,'-b',label='sklearn')\n",
    "plt.plot(predictions_lm1, '-g',label='Default statsmodel')\n",
    "plt.plot(predictions_lm2,'-y',label='Revised_statsmodel')\n",
    "plt.plot(y_new['consumption'], '-r',label='Target')  \n",
    "plt.xlabel('Sample')\n",
    "plt.ylabel('Predictions')\n",
    "fig.tight_layout()\n",
    "plt.legend(loc='lower right')\n",
    "plt.show()"
   ]
  },
  {
   "cell_type": "markdown",
   "metadata": {},
   "source": [
    "# Task 3 : Autocorrelation of Residuals using Durbin-Watson (DW) statistic of the residuals\n",
    "\n",
    "- DW on default values: **1.76**\n",
    "- DW after removing the outliers: **1.82**\n",
    "\n",
    "\n",
    "\n",
    "## Answer:\n",
    "\n",
    "- the DW values increases from (significantly less) towards 2, which significes that there is no correlation between two independent variables."
   ]
  },
  {
   "cell_type": "code",
   "execution_count": 42,
   "metadata": {},
   "outputs": [],
   "source": [
    "def durbin_watson_new(resids, axis=0):\n",
    "    resids = np.asarray(resids)\n",
    "    diff_resids = np.diff(resids, 1, axis=axis)\n",
    "    dw = np.sum(diff_resids**2, axis=axis) / np.sum(resids**2, axis=axis)\n",
    "    return dw"
   ]
  },
  {
   "cell_type": "markdown",
   "metadata": {},
   "source": [
    "### DW for default data source "
   ]
  },
  {
   "cell_type": "code",
   "execution_count": 43,
   "metadata": {},
   "outputs": [
    {
     "data": {
      "text/plain": [
       "1.7670963731441405"
      ]
     },
     "execution_count": 43,
     "metadata": {},
     "output_type": "execute_result"
    }
   ],
   "source": [
    "durbin_watson_new(lm1.resid)"
   ]
  },
  {
   "cell_type": "markdown",
   "metadata": {},
   "source": [
    "### DW for default Revised data source (after removing the outliers) "
   ]
  },
  {
   "cell_type": "code",
   "execution_count": 44,
   "metadata": {},
   "outputs": [
    {
     "data": {
      "text/plain": [
       "1.8213485592304108"
      ]
     },
     "execution_count": 44,
     "metadata": {},
     "output_type": "execute_result"
    }
   ],
   "source": [
    "durbin_watson_new(lm2.resid)"
   ]
  },
  {
   "cell_type": "markdown",
   "metadata": {},
   "source": [
    "# Task 4 : Bootstrapping of Standard Errors\n",
    "\n",
    "- this has been carried out on linear regression from **sklearn library**"
   ]
  },
  {
   "cell_type": "code",
   "execution_count": 45,
   "metadata": {},
   "outputs": [],
   "source": [
    "def fitreg(A):\n",
    "    reg = LinearRegression(fit_intercept=True)\n",
    "    X_local = A[:,1:3]\n",
    "    Y_local = A[:,3]\n",
    "    reg.fit(X_local,Y_local)\n",
    "    params = np.append(reg.intercept_,reg.coef_)\n",
    "    predictions = reg.predict(X_local)\n",
    "\n",
    "    newX = pd.DataFrame({\"Constant\":np.ones(len(X_local))}).join(pd.DataFrame(X_local))\n",
    "    newX = newX.dropna()\n",
    "    MSE = (sum((Y_local-predictions)**2))/(len(newX)-len(newX.columns))\n",
    "\n",
    "    # Note if you don't want to use a DataFrame replace the two lines above with\n",
    "    # newX = np.append(np.ones((len(X),1)), X, axis=1)\n",
    "    # MSE = (sum((y-predictions)**2))/(len(newX)-len(newX[0]))\n",
    "\n",
    "    var_b = MSE*(np.linalg.inv(np.dot(newX.T,newX)).diagonal())\n",
    "    sd_b = np.sqrt(var_b)\n",
    "    ts_b = params/ sd_b\n",
    "\n",
    "    p_values =[2*(1-stats.t.cdf(np.abs(i),(len(newX)-1))) for i in ts_b]\n",
    "\n",
    "    sd_b = np.round(sd_b,3)\n",
    "    ts_b = np.round(ts_b,3)\n",
    "    p_values = np.round(p_values,3)\n",
    "    params = np.round(params,4)\n",
    "\n",
    "    myDF3 = pd.DataFrame()\n",
    "    myDF3[\"Coefficients\"],myDF3[\"Standard Errors\"],myDF3[\"t values\"],myDF3[\"Probabilites\"] = [params,sd_b,ts_b,p_values]\n",
    "    # print(myDF3)\n",
    "    return {\"coef\": reg.coef_, \"intercept\": reg.intercept_, \"std_error\":sd_b}"
   ]
  },
  {
   "cell_type": "markdown",
   "metadata": {},
   "source": [
    "## on default data (without removing the outliers)"
   ]
  },
  {
   "cell_type": "code",
   "execution_count": 46,
   "metadata": {},
   "outputs": [
    {
     "data": {
      "text/plain": [
       "array([{'coef': array([  0.37165675, -10.74198043]), 'intercept': 18.11051724536124, 'std_error': array([2.087, 0.051, 3.946])},\n",
       "       {'coef': array([  0.32003064, -14.23195937]), 'intercept': 17.15358086286578, 'std_error': array([2.056, 0.048, 4.558])},\n",
       "       {'coef': array([  0.3692769 , -13.40363485]), 'intercept': 17.49884771109659, 'std_error': array([2.034, 0.051, 4.142])}],\n",
       "      dtype=object)"
      ]
     },
     "execution_count": 46,
     "metadata": {},
     "output_type": "execute_result"
    }
   ],
   "source": [
    "boot_coef_def = bootstrap.bootstrap(a=df.values, f=fitreg, b=10000)\n",
    "boot_coef_def[:3]"
   ]
  },
  {
   "cell_type": "code",
   "execution_count": 47,
   "metadata": {},
   "outputs": [
    {
     "data": {
      "text/plain": [
       "203"
      ]
     },
     "execution_count": 47,
     "metadata": {},
     "output_type": "execute_result"
    }
   ],
   "source": [
    "len(df)"
   ]
  },
  {
   "cell_type": "code",
   "execution_count": 48,
   "metadata": {},
   "outputs": [
    {
     "data": {
      "text/html": [
       "<div>\n",
       "<style scoped>\n",
       "    .dataframe tbody tr th:only-of-type {\n",
       "        vertical-align: middle;\n",
       "    }\n",
       "\n",
       "    .dataframe tbody tr th {\n",
       "        vertical-align: top;\n",
       "    }\n",
       "\n",
       "    .dataframe thead th {\n",
       "        text-align: right;\n",
       "    }\n",
       "</style>\n",
       "<table border=\"1\" class=\"dataframe\">\n",
       "  <thead>\n",
       "    <tr style=\"text-align: right;\">\n",
       "      <th></th>\n",
       "      <th>coef</th>\n",
       "      <th>intercept</th>\n",
       "      <th>std_error</th>\n",
       "    </tr>\n",
       "  </thead>\n",
       "  <tbody>\n",
       "    <tr>\n",
       "      <th>0</th>\n",
       "      <td>[0.3716567465403763, -10.741980429334106]</td>\n",
       "      <td>18.110517</td>\n",
       "      <td>[2.087, 0.051, 3.946]</td>\n",
       "    </tr>\n",
       "    <tr>\n",
       "      <th>1</th>\n",
       "      <td>[0.3200306365122572, -14.231959369611271]</td>\n",
       "      <td>17.153581</td>\n",
       "      <td>[2.056, 0.048, 4.558]</td>\n",
       "    </tr>\n",
       "    <tr>\n",
       "      <th>2</th>\n",
       "      <td>[0.3692769019866186, -13.403634846806911]</td>\n",
       "      <td>17.498848</td>\n",
       "      <td>[2.034, 0.051, 4.142]</td>\n",
       "    </tr>\n",
       "    <tr>\n",
       "      <th>3</th>\n",
       "      <td>[0.34190608282091717, -12.432195292220625]</td>\n",
       "      <td>16.635692</td>\n",
       "      <td>[1.887, 0.055, 3.728]</td>\n",
       "    </tr>\n",
       "    <tr>\n",
       "      <th>4</th>\n",
       "      <td>[0.38626262422208024, -17.80872682990135]</td>\n",
       "      <td>16.239918</td>\n",
       "      <td>[1.96, 0.047, 3.754]</td>\n",
       "    </tr>\n",
       "  </tbody>\n",
       "</table>\n",
       "</div>"
      ],
      "text/plain": [
       "                                         coef  intercept  \\\n",
       "0   [0.3716567465403763, -10.741980429334106]  18.110517   \n",
       "1   [0.3200306365122572, -14.231959369611271]  17.153581   \n",
       "2   [0.3692769019866186, -13.403634846806911]  17.498848   \n",
       "3  [0.34190608282091717, -12.432195292220625]  16.635692   \n",
       "4   [0.38626262422208024, -17.80872682990135]  16.239918   \n",
       "\n",
       "               std_error  \n",
       "0  [2.087, 0.051, 3.946]  \n",
       "1  [2.056, 0.048, 4.558]  \n",
       "2  [2.034, 0.051, 4.142]  \n",
       "3  [1.887, 0.055, 3.728]  \n",
       "4   [1.96, 0.047, 3.754]  "
      ]
     },
     "execution_count": 48,
     "metadata": {},
     "output_type": "execute_result"
    }
   ],
   "source": [
    "param_frame_def = pd.DataFrame([pd.Series(x) for x in boot_coef_def])\n",
    "param_frame_def.head()"
   ]
  },
  {
   "cell_type": "code",
   "execution_count": 49,
   "metadata": {},
   "outputs": [
    {
     "data": {
      "text/html": [
       "<div>\n",
       "<style scoped>\n",
       "    .dataframe tbody tr th:only-of-type {\n",
       "        vertical-align: middle;\n",
       "    }\n",
       "\n",
       "    .dataframe tbody tr th {\n",
       "        vertical-align: top;\n",
       "    }\n",
       "\n",
       "    .dataframe thead th {\n",
       "        text-align: right;\n",
       "    }\n",
       "</style>\n",
       "<table border=\"1\" class=\"dataframe\">\n",
       "  <thead>\n",
       "    <tr style=\"text-align: right;\">\n",
       "      <th></th>\n",
       "      <th>SE_intercept</th>\n",
       "      <th>SE_dpi</th>\n",
       "      <th>SE_unemp</th>\n",
       "    </tr>\n",
       "  </thead>\n",
       "  <tbody>\n",
       "    <tr>\n",
       "      <th>0</th>\n",
       "      <td>2.087</td>\n",
       "      <td>0.051</td>\n",
       "      <td>3.946</td>\n",
       "    </tr>\n",
       "    <tr>\n",
       "      <th>1</th>\n",
       "      <td>2.056</td>\n",
       "      <td>0.048</td>\n",
       "      <td>4.558</td>\n",
       "    </tr>\n",
       "    <tr>\n",
       "      <th>2</th>\n",
       "      <td>2.034</td>\n",
       "      <td>0.051</td>\n",
       "      <td>4.142</td>\n",
       "    </tr>\n",
       "    <tr>\n",
       "      <th>3</th>\n",
       "      <td>1.887</td>\n",
       "      <td>0.055</td>\n",
       "      <td>3.728</td>\n",
       "    </tr>\n",
       "    <tr>\n",
       "      <th>4</th>\n",
       "      <td>1.960</td>\n",
       "      <td>0.047</td>\n",
       "      <td>3.754</td>\n",
       "    </tr>\n",
       "  </tbody>\n",
       "</table>\n",
       "</div>"
      ],
      "text/plain": [
       "   SE_intercept  SE_dpi  SE_unemp\n",
       "0         2.087   0.051     3.946\n",
       "1         2.056   0.048     4.558\n",
       "2         2.034   0.051     4.142\n",
       "3         1.887   0.055     3.728\n",
       "4         1.960   0.047     3.754"
      ]
     },
     "execution_count": 49,
     "metadata": {},
     "output_type": "execute_result"
    }
   ],
   "source": [
    "Std_ErrorBT_def = pd.DataFrame()\n",
    "Std_ErrorBT_def['SE_intercept'] = param_frame_def[\"std_error\"].map(lambda x: x[0])\n",
    "Std_ErrorBT_def['SE_dpi'] = param_frame_def[\"std_error\"].map(lambda x: x[1])\n",
    "Std_ErrorBT_def['SE_unemp'] = param_frame_def[\"std_error\"].map(lambda x: x[2])\n",
    "Std_ErrorBT_def.head()"
   ]
  },
  {
   "cell_type": "code",
   "execution_count": 50,
   "metadata": {},
   "outputs": [
    {
     "name": "stdout",
     "output_type": "stream",
     "text": [
      "Median StdError: DPI:  0.048\n",
      "Median StdError: Unemp:  3.795\n",
      "Median StdError: intercept:  1.905\n",
      "--------------------------------------------\n",
      "Mean StdError: DPI:  0.04791610000000001\n",
      "Mean StdError: Unemp:  3.8123485999999995\n",
      "Mean StdError: intercept:  1.9072242999999998\n"
     ]
    }
   ],
   "source": [
    "print('Median StdError: DPI: ', Std_ErrorBT_def.SE_dpi.median())\n",
    "print('Median StdError: Unemp: ', Std_ErrorBT_def.SE_unemp.median())\n",
    "print('Median StdError: intercept: ', Std_ErrorBT_def.SE_intercept.median())\n",
    "print('--------------------------------------------')\n",
    "print('Mean StdError: DPI: ', Std_ErrorBT_def.SE_dpi.mean())\n",
    "print('Mean StdError: Unemp: ', Std_ErrorBT_def.SE_unemp.mean())\n",
    "print('Mean StdError: intercept: ', Std_ErrorBT_def.SE_intercept.mean())"
   ]
  },
  {
   "cell_type": "code",
   "execution_count": 51,
   "metadata": {},
   "outputs": [
    {
     "data": {
      "text/html": [
       "<div>\n",
       "<style scoped>\n",
       "    .dataframe tbody tr th:only-of-type {\n",
       "        vertical-align: middle;\n",
       "    }\n",
       "\n",
       "    .dataframe tbody tr th {\n",
       "        vertical-align: top;\n",
       "    }\n",
       "\n",
       "    .dataframe thead th {\n",
       "        text-align: right;\n",
       "    }\n",
       "</style>\n",
       "<table border=\"1\" class=\"dataframe\">\n",
       "  <thead>\n",
       "    <tr style=\"text-align: right;\">\n",
       "      <th></th>\n",
       "      <th>SE_intercept</th>\n",
       "      <th>SE_dpi</th>\n",
       "      <th>SE_unemp</th>\n",
       "    </tr>\n",
       "  </thead>\n",
       "  <tbody>\n",
       "    <tr>\n",
       "      <th>count</th>\n",
       "      <td>10000.000000</td>\n",
       "      <td>10000.000000</td>\n",
       "      <td>10000.000000</td>\n",
       "    </tr>\n",
       "    <tr>\n",
       "      <th>mean</th>\n",
       "      <td>1.907224</td>\n",
       "      <td>0.047916</td>\n",
       "      <td>3.812349</td>\n",
       "    </tr>\n",
       "    <tr>\n",
       "      <th>std</th>\n",
       "      <td>0.131288</td>\n",
       "      <td>0.004504</td>\n",
       "      <td>0.368713</td>\n",
       "    </tr>\n",
       "    <tr>\n",
       "      <th>min</th>\n",
       "      <td>1.445000</td>\n",
       "      <td>0.033000</td>\n",
       "      <td>2.605000</td>\n",
       "    </tr>\n",
       "    <tr>\n",
       "      <th>25%</th>\n",
       "      <td>1.818000</td>\n",
       "      <td>0.045000</td>\n",
       "      <td>3.558000</td>\n",
       "    </tr>\n",
       "    <tr>\n",
       "      <th>50%</th>\n",
       "      <td>1.905000</td>\n",
       "      <td>0.048000</td>\n",
       "      <td>3.795000</td>\n",
       "    </tr>\n",
       "    <tr>\n",
       "      <th>75%</th>\n",
       "      <td>1.996000</td>\n",
       "      <td>0.051000</td>\n",
       "      <td>4.041000</td>\n",
       "    </tr>\n",
       "    <tr>\n",
       "      <th>max</th>\n",
       "      <td>2.387000</td>\n",
       "      <td>0.068000</td>\n",
       "      <td>5.320000</td>\n",
       "    </tr>\n",
       "  </tbody>\n",
       "</table>\n",
       "</div>"
      ],
      "text/plain": [
       "       SE_intercept        SE_dpi      SE_unemp\n",
       "count  10000.000000  10000.000000  10000.000000\n",
       "mean       1.907224      0.047916      3.812349\n",
       "std        0.131288      0.004504      0.368713\n",
       "min        1.445000      0.033000      2.605000\n",
       "25%        1.818000      0.045000      3.558000\n",
       "50%        1.905000      0.048000      3.795000\n",
       "75%        1.996000      0.051000      4.041000\n",
       "max        2.387000      0.068000      5.320000"
      ]
     },
     "execution_count": 51,
     "metadata": {},
     "output_type": "execute_result"
    }
   ],
   "source": [
    "Std_ErrorBT_def.describe()"
   ]
  },
  {
   "cell_type": "markdown",
   "metadata": {},
   "source": [
    "## 95% condifence interval on \n",
    "\n",
    "- intercept\n",
    "- dpi\n",
    "- unemp"
   ]
  },
  {
   "cell_type": "code",
   "execution_count": 52,
   "metadata": {},
   "outputs": [
    {
     "data": {
      "text/plain": [
       "(1.658, 2.174)"
      ]
     },
     "execution_count": 52,
     "metadata": {},
     "output_type": "execute_result"
    }
   ],
   "source": [
    "q_intercept_def = utils.eqf(Std_ErrorBT_def['SE_intercept'])\n",
    "(q_intercept_def(0.025), q_intercept_def(0.975))"
   ]
  },
  {
   "cell_type": "code",
   "execution_count": 53,
   "metadata": {},
   "outputs": [
    {
     "data": {
      "text/plain": [
       "(0.04, 0.057)"
      ]
     },
     "execution_count": 53,
     "metadata": {},
     "output_type": "execute_result"
    }
   ],
   "source": [
    "q_dpi_def = utils.eqf(Std_ErrorBT_def['SE_dpi'])\n",
    "(q_dpi_def(0.025), q_dpi_def(0.975))"
   ]
  },
  {
   "cell_type": "code",
   "execution_count": 54,
   "metadata": {},
   "outputs": [
    {
     "data": {
      "text/plain": [
       "(3.15, 4.601)"
      ]
     },
     "execution_count": 54,
     "metadata": {},
     "output_type": "execute_result"
    }
   ],
   "source": [
    "q_unemp_def = utils.eqf(Std_ErrorBT_def['SE_unemp'])\n",
    "(q_unemp_def(0.025), q_unemp_def(0.975))"
   ]
  },
  {
   "cell_type": "markdown",
   "metadata": {},
   "source": [
    "## On revised data after removing the outliers"
   ]
  },
  {
   "cell_type": "code",
   "execution_count": 55,
   "metadata": {},
   "outputs": [
    {
     "data": {
      "text/plain": [
       "array([{'coef': array([  0.29300088, -20.56997017]), 'intercept': 18.396796036717028, 'std_error': array([1.604, 0.043, 3.347])},\n",
       "       {'coef': array([  0.37580301, -14.62656243]), 'intercept': 13.795948869665255, 'std_error': array([1.609, 0.038, 3.196])},\n",
       "       {'coef': array([  0.36805528, -15.54725881]), 'intercept': 14.409008010433194, 'std_error': array([1.592, 0.038, 2.986])}],\n",
       "      dtype=object)"
      ]
     },
     "execution_count": 55,
     "metadata": {},
     "output_type": "execute_result"
    }
   ],
   "source": [
    "boot_coef = bootstrap.bootstrap(a=df1_new.values, f=fitreg, b=10000)\n",
    "boot_coef[:3]"
   ]
  },
  {
   "cell_type": "code",
   "execution_count": 56,
   "metadata": {},
   "outputs": [
    {
     "data": {
      "text/plain": [
       "(10000,)"
      ]
     },
     "execution_count": 56,
     "metadata": {},
     "output_type": "execute_result"
    }
   ],
   "source": [
    "boot_coef.shape"
   ]
  },
  {
   "cell_type": "code",
   "execution_count": 57,
   "metadata": {},
   "outputs": [
    {
     "data": {
      "text/html": [
       "<div>\n",
       "<style scoped>\n",
       "    .dataframe tbody tr th:only-of-type {\n",
       "        vertical-align: middle;\n",
       "    }\n",
       "\n",
       "    .dataframe tbody tr th {\n",
       "        vertical-align: top;\n",
       "    }\n",
       "\n",
       "    .dataframe thead th {\n",
       "        text-align: right;\n",
       "    }\n",
       "</style>\n",
       "<table border=\"1\" class=\"dataframe\">\n",
       "  <thead>\n",
       "    <tr style=\"text-align: right;\">\n",
       "      <th></th>\n",
       "      <th>coef</th>\n",
       "      <th>intercept</th>\n",
       "      <th>std_error</th>\n",
       "    </tr>\n",
       "  </thead>\n",
       "  <tbody>\n",
       "    <tr>\n",
       "      <th>0</th>\n",
       "      <td>[0.2930008790677304, -20.569970172985578]</td>\n",
       "      <td>18.396796</td>\n",
       "      <td>[1.604, 0.043, 3.347]</td>\n",
       "    </tr>\n",
       "    <tr>\n",
       "      <th>1</th>\n",
       "      <td>[0.3758030055864629, -14.62656243198084]</td>\n",
       "      <td>13.795949</td>\n",
       "      <td>[1.609, 0.038, 3.196]</td>\n",
       "    </tr>\n",
       "    <tr>\n",
       "      <th>2</th>\n",
       "      <td>[0.36805527944978567, -15.547258811194634]</td>\n",
       "      <td>14.409008</td>\n",
       "      <td>[1.592, 0.038, 2.986]</td>\n",
       "    </tr>\n",
       "    <tr>\n",
       "      <th>3</th>\n",
       "      <td>[0.3813353857830116, -17.044944131797976]</td>\n",
       "      <td>14.643854</td>\n",
       "      <td>[1.438, 0.033, 2.739]</td>\n",
       "    </tr>\n",
       "    <tr>\n",
       "      <th>4</th>\n",
       "      <td>[0.4186953348300375, -17.042802443551736]</td>\n",
       "      <td>12.046472</td>\n",
       "      <td>[1.825, 0.046, 3.34]</td>\n",
       "    </tr>\n",
       "  </tbody>\n",
       "</table>\n",
       "</div>"
      ],
      "text/plain": [
       "                                         coef  intercept  \\\n",
       "0   [0.2930008790677304, -20.569970172985578]  18.396796   \n",
       "1    [0.3758030055864629, -14.62656243198084]  13.795949   \n",
       "2  [0.36805527944978567, -15.547258811194634]  14.409008   \n",
       "3   [0.3813353857830116, -17.044944131797976]  14.643854   \n",
       "4   [0.4186953348300375, -17.042802443551736]  12.046472   \n",
       "\n",
       "               std_error  \n",
       "0  [1.604, 0.043, 3.347]  \n",
       "1  [1.609, 0.038, 3.196]  \n",
       "2  [1.592, 0.038, 2.986]  \n",
       "3  [1.438, 0.033, 2.739]  \n",
       "4   [1.825, 0.046, 3.34]  "
      ]
     },
     "execution_count": 57,
     "metadata": {},
     "output_type": "execute_result"
    }
   ],
   "source": [
    "param_frame = pd.DataFrame([pd.Series(x) for x in boot_coef])\n",
    "param_frame.head()"
   ]
  },
  {
   "cell_type": "code",
   "execution_count": 58,
   "metadata": {},
   "outputs": [
    {
     "data": {
      "text/html": [
       "<div>\n",
       "<style scoped>\n",
       "    .dataframe tbody tr th:only-of-type {\n",
       "        vertical-align: middle;\n",
       "    }\n",
       "\n",
       "    .dataframe tbody tr th {\n",
       "        vertical-align: top;\n",
       "    }\n",
       "\n",
       "    .dataframe thead th {\n",
       "        text-align: right;\n",
       "    }\n",
       "</style>\n",
       "<table border=\"1\" class=\"dataframe\">\n",
       "  <thead>\n",
       "    <tr style=\"text-align: right;\">\n",
       "      <th></th>\n",
       "      <th>SE_intercept</th>\n",
       "      <th>SE_dpi</th>\n",
       "      <th>SE_unemp</th>\n",
       "    </tr>\n",
       "  </thead>\n",
       "  <tbody>\n",
       "    <tr>\n",
       "      <th>0</th>\n",
       "      <td>1.604</td>\n",
       "      <td>0.043</td>\n",
       "      <td>3.347</td>\n",
       "    </tr>\n",
       "    <tr>\n",
       "      <th>1</th>\n",
       "      <td>1.609</td>\n",
       "      <td>0.038</td>\n",
       "      <td>3.196</td>\n",
       "    </tr>\n",
       "    <tr>\n",
       "      <th>2</th>\n",
       "      <td>1.592</td>\n",
       "      <td>0.038</td>\n",
       "      <td>2.986</td>\n",
       "    </tr>\n",
       "    <tr>\n",
       "      <th>3</th>\n",
       "      <td>1.438</td>\n",
       "      <td>0.033</td>\n",
       "      <td>2.739</td>\n",
       "    </tr>\n",
       "    <tr>\n",
       "      <th>4</th>\n",
       "      <td>1.825</td>\n",
       "      <td>0.046</td>\n",
       "      <td>3.340</td>\n",
       "    </tr>\n",
       "  </tbody>\n",
       "</table>\n",
       "</div>"
      ],
      "text/plain": [
       "   SE_intercept  SE_dpi  SE_unemp\n",
       "0         1.604   0.043     3.347\n",
       "1         1.609   0.038     3.196\n",
       "2         1.592   0.038     2.986\n",
       "3         1.438   0.033     2.739\n",
       "4         1.825   0.046     3.340"
      ]
     },
     "execution_count": 58,
     "metadata": {},
     "output_type": "execute_result"
    }
   ],
   "source": [
    "Std_ErrorBT = pd.DataFrame()\n",
    "Std_ErrorBT['SE_intercept'] = param_frame[\"std_error\"].map(lambda x: x[0])\n",
    "Std_ErrorBT['SE_dpi'] = param_frame[\"std_error\"].map(lambda x: x[1])\n",
    "Std_ErrorBT['SE_unemp'] = param_frame[\"std_error\"].map(lambda x: x[2])\n",
    "Std_ErrorBT.head()"
   ]
  },
  {
   "cell_type": "code",
   "execution_count": 59,
   "metadata": {},
   "outputs": [
    {
     "name": "stdout",
     "output_type": "stream",
     "text": [
      "Median StdError: DPI:  0.041\n",
      "Median StdError: Unemp:  3.146\n",
      "Median StdError: intercept:  1.637\n",
      "--------------------------------------------\n",
      "Mean StdError: DPI:  0.0410617\n",
      "Mean StdError: Unemp:  3.1662574\n",
      "Mean StdError: intercept:  1.6403708\n"
     ]
    }
   ],
   "source": [
    "print('Median StdError: DPI: ', Std_ErrorBT.SE_dpi.median())\n",
    "print('Median StdError: Unemp: ', Std_ErrorBT.SE_unemp.median())\n",
    "print('Median StdError: intercept: ', Std_ErrorBT.SE_intercept.median())\n",
    "print('--------------------------------------------')\n",
    "print('Mean StdError: DPI: ', Std_ErrorBT.SE_dpi.mean())\n",
    "print('Mean StdError: Unemp: ', Std_ErrorBT.SE_unemp.mean())\n",
    "print('Mean StdError: intercept: ', Std_ErrorBT.SE_intercept.mean())"
   ]
  },
  {
   "cell_type": "code",
   "execution_count": 60,
   "metadata": {},
   "outputs": [
    {
     "data": {
      "text/html": [
       "<div>\n",
       "<style scoped>\n",
       "    .dataframe tbody tr th:only-of-type {\n",
       "        vertical-align: middle;\n",
       "    }\n",
       "\n",
       "    .dataframe tbody tr th {\n",
       "        vertical-align: top;\n",
       "    }\n",
       "\n",
       "    .dataframe thead th {\n",
       "        text-align: right;\n",
       "    }\n",
       "</style>\n",
       "<table border=\"1\" class=\"dataframe\">\n",
       "  <thead>\n",
       "    <tr style=\"text-align: right;\">\n",
       "      <th></th>\n",
       "      <th>SE_intercept</th>\n",
       "      <th>SE_dpi</th>\n",
       "      <th>SE_unemp</th>\n",
       "    </tr>\n",
       "  </thead>\n",
       "  <tbody>\n",
       "    <tr>\n",
       "      <th>count</th>\n",
       "      <td>10000.000000</td>\n",
       "      <td>10000.000000</td>\n",
       "      <td>10000.000000</td>\n",
       "    </tr>\n",
       "    <tr>\n",
       "      <th>mean</th>\n",
       "      <td>1.640371</td>\n",
       "      <td>0.041062</td>\n",
       "      <td>3.166257</td>\n",
       "    </tr>\n",
       "    <tr>\n",
       "      <th>std</th>\n",
       "      <td>0.115361</td>\n",
       "      <td>0.004095</td>\n",
       "      <td>0.302625</td>\n",
       "    </tr>\n",
       "    <tr>\n",
       "      <th>min</th>\n",
       "      <td>1.279000</td>\n",
       "      <td>0.029000</td>\n",
       "      <td>2.290000</td>\n",
       "    </tr>\n",
       "    <tr>\n",
       "      <th>25%</th>\n",
       "      <td>1.560000</td>\n",
       "      <td>0.038000</td>\n",
       "      <td>2.955000</td>\n",
       "    </tr>\n",
       "    <tr>\n",
       "      <th>50%</th>\n",
       "      <td>1.637000</td>\n",
       "      <td>0.041000</td>\n",
       "      <td>3.146000</td>\n",
       "    </tr>\n",
       "    <tr>\n",
       "      <th>75%</th>\n",
       "      <td>1.715000</td>\n",
       "      <td>0.044000</td>\n",
       "      <td>3.354000</td>\n",
       "    </tr>\n",
       "    <tr>\n",
       "      <th>max</th>\n",
       "      <td>2.146000</td>\n",
       "      <td>0.064000</td>\n",
       "      <td>4.587000</td>\n",
       "    </tr>\n",
       "  </tbody>\n",
       "</table>\n",
       "</div>"
      ],
      "text/plain": [
       "       SE_intercept        SE_dpi      SE_unemp\n",
       "count  10000.000000  10000.000000  10000.000000\n",
       "mean       1.640371      0.041062      3.166257\n",
       "std        0.115361      0.004095      0.302625\n",
       "min        1.279000      0.029000      2.290000\n",
       "25%        1.560000      0.038000      2.955000\n",
       "50%        1.637000      0.041000      3.146000\n",
       "75%        1.715000      0.044000      3.354000\n",
       "max        2.146000      0.064000      4.587000"
      ]
     },
     "execution_count": 60,
     "metadata": {},
     "output_type": "execute_result"
    }
   ],
   "source": [
    "Std_ErrorBT.describe()"
   ]
  },
  {
   "cell_type": "markdown",
   "metadata": {},
   "source": [
    "## 95% condifence interval on \n",
    "\n",
    "- intercept\n",
    "- dpi\n",
    "- unemp"
   ]
  },
  {
   "cell_type": "code",
   "execution_count": 61,
   "metadata": {},
   "outputs": [
    {
     "data": {
      "text/plain": [
       "(1.425, 1.877)"
      ]
     },
     "execution_count": 61,
     "metadata": {},
     "output_type": "execute_result"
    }
   ],
   "source": [
    "q_intercept = utils.eqf(Std_ErrorBT['SE_intercept'])\n",
    "(q_intercept(0.025), q_intercept(0.975))"
   ]
  },
  {
   "cell_type": "code",
   "execution_count": 62,
   "metadata": {},
   "outputs": [
    {
     "data": {
      "text/plain": [
       "(0.034, 0.05)"
      ]
     },
     "execution_count": 62,
     "metadata": {},
     "output_type": "execute_result"
    }
   ],
   "source": [
    "q_dpi = utils.eqf(Std_ErrorBT['SE_dpi'])\n",
    "(q_dpi(0.025), q_dpi(0.975))"
   ]
  },
  {
   "cell_type": "code",
   "execution_count": 63,
   "metadata": {},
   "outputs": [
    {
     "data": {
      "text/plain": [
       "(2.631, 3.822)"
      ]
     },
     "execution_count": 63,
     "metadata": {},
     "output_type": "execute_result"
    }
   ],
   "source": [
    "q_unemp = utils.eqf(Std_ErrorBT['SE_unemp'])\n",
    "(q_unemp(0.025), q_unemp(0.975))"
   ]
  }
 ],
 "metadata": {
  "kernelspec": {
   "display_name": "Python 3",
   "language": "python",
   "name": "python3"
  },
  "language_info": {
   "codemirror_mode": {
    "name": "ipython",
    "version": 3
   },
   "file_extension": ".py",
   "mimetype": "text/x-python",
   "name": "python",
   "nbconvert_exporter": "python",
   "pygments_lexer": "ipython3",
   "version": "3.7.4"
  }
 },
 "nbformat": 4,
 "nbformat_minor": 2
}
